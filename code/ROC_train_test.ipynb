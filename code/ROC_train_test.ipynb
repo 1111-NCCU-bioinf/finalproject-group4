{
 "cells": [
  {
   "cell_type": "code",
   "execution_count": 1,
   "id": "a76d404a",
   "metadata": {},
   "outputs": [],
   "source": [
    "import numpy as np\n",
    "import matplotlib.pyplot as plt\n",
    "from sklearn.metrics import roc_curve, roc_auc_score, auc\n",
    "import pandas as pd\n",
    "from sklearn import metrics"
   ]
  },
  {
   "cell_type": "code",
   "execution_count": 2,
   "id": "70a4f947",
   "metadata": {},
   "outputs": [],
   "source": [
    "# 讀取資料\n",
    "df=pd.read_csv('./dataset1.csv')\n",
    "df.drop(df[df['Sample'] == \"Train\"].index, inplace = True)\n",
    "#df.drop(df[df['Sample'] == \"Test\"].index, inplace = True)\n",
    "df['Diagnosis'] = df['Diagnosis'].replace(['Controls+Borderline'], 0)\n",
    "df['Diagnosis'] = df['Diagnosis'].replace(['Cancer'], 1)\n",
    "df['Output'] = df['Output'].replace(['Controls+Borderline'], 0)\n",
    "df['Output'] = df['Output'].replace(['Cancer'], 1)"
   ]
  },
  {
   "cell_type": "code",
   "execution_count": 5,
   "id": "41be75bc",
   "metadata": {},
   "outputs": [
    {
     "name": "stdout",
     "output_type": "stream",
     "text": [
      "[0.  0.1 1. ] [0.         0.88235294 1.        ] [2 1 0]\n"
     ]
    }
   ],
   "source": [
    "# 在各種『決策門檻』（decision threshold）下，計算 『真陽率』（True Positive Rate；TPR）與『假陽率』（False Positive Rate；FPR）\n",
    "fpr, tpr,threshold = roc_curve(df['Diagnosis'], df['Output'])\n",
    "print(fpr, tpr, threshold)"
   ]
  },
  {
   "cell_type": "code",
   "execution_count": 6,
   "id": "9d25a772",
   "metadata": {},
   "outputs": [
    {
     "name": "stdout",
     "output_type": "stream",
     "text": [
      "0.8911764705882352\n"
     ]
    }
   ],
   "source": [
    "auc1 = auc(fpr, tpr)\n",
    "print(auc1)"
   ]
  },
  {
   "cell_type": "code",
   "execution_count": 7,
   "id": "4704d083",
   "metadata": {},
   "outputs": [
    {
     "name": "stdout",
     "output_type": "stream",
     "text": [
      "34 10\n",
      "[0.  0.  0.1 0.1 0.1 0.1 0.1 0.1 0.1 0.1 0.1 0.1 0.1 0.1 0.1 0.1 0.1 0.1\n",
      " 0.1 0.1 0.1 0.1 0.1 0.1 0.1 0.1 0.1 0.1 0.1 0.1 0.1 0.1 0.2 0.3 0.4 0.5\n",
      " 0.6 0.7 0.7 0.8 0.8 0.8 0.9 1. ] [0.02941176 0.05882353 0.05882353 0.08823529 0.11764706 0.14705882\n",
      " 0.17647059 0.20588235 0.23529412 0.26470588 0.29411765 0.32352941\n",
      " 0.35294118 0.38235294 0.41176471 0.44117647 0.47058824 0.5\n",
      " 0.52941176 0.55882353 0.58823529 0.61764706 0.64705882 0.67647059\n",
      " 0.70588235 0.73529412 0.76470588 0.79411765 0.82352941 0.85294118\n",
      " 0.88235294 0.91176471 0.91176471 0.91176471 0.91176471 0.91176471\n",
      " 0.91176471 0.91176471 0.94117647 0.94117647 0.97058824 1.\n",
      " 1.         1.        ]\n",
      "0.029411764705882353\n"
     ]
    }
   ],
   "source": [
    "P= df[df['Diagnosis']==1].shape[0]\n",
    "N= df[df['Diagnosis']==0].shape[0]\n",
    "print(P,N)\n",
    "y_unit=1/P\n",
    "X_unit=1/N\n",
    "\n",
    "# 以第一欄降冪排序，從大排到小。\n",
    "df=df.sort_values(by='Output', ascending=False)\n",
    "\n",
    "# 依序掃描第二欄，計算每一座標點\n",
    "# 若是1，Y加一單位，反之，若是0，X加一單位\n",
    "X=[]\n",
    "y=[]\n",
    "current_X=0\n",
    "current_y=0\n",
    "for row in df.itertuples():\n",
    "    # row[0] is index\n",
    "    #print(row[2])\n",
    "    if row[2] == 1:\n",
    "        current_y+=y_unit\n",
    "    else:\n",
    "        current_X+=X_unit\n",
    "    X.append(current_X)\n",
    "    y.append(current_y)\n",
    "\n",
    "X1=np.array(X)        \n",
    "y1=np.array(y)    \n",
    "print(X1, y1)\n",
    "print(y_unit)"
   ]
  },
  {
   "cell_type": "code",
   "execution_count": null,
   "id": "7ad6b680",
   "metadata": {},
   "outputs": [],
   "source": []
  },
  {
   "cell_type": "code",
   "execution_count": 9,
   "id": "975fe952",
   "metadata": {},
   "outputs": [],
   "source": [
    "# 讀取資料\n",
    "df2=pd.read_csv('./dataset2_all.csv')\n",
    "df2.drop(df2[df2['Sample'] == \"Train\"].index, inplace = True)\n",
    "#df2.drop(df2[df2['Sample'] == \"Test\"].index, inplace = True)\n",
    "df2['Diagnosis'] = df2['Diagnosis'].replace(['Controls+Borderline'], 0)\n",
    "df2['Diagnosis'] = df2['Diagnosis'].replace(['Cancer'], 1)\n",
    "df2['Output'] = df2['Output'].replace(['Controls+Borderline'], 0)\n",
    "df2['Output'] = df2['Output'].replace(['Cancer'], 1)"
   ]
  },
  {
   "cell_type": "code",
   "execution_count": 10,
   "id": "59e44186",
   "metadata": {},
   "outputs": [
    {
     "name": "stdout",
     "output_type": "stream",
     "text": [
      "[0.  0.5 1. ] [0. 1. 1.] [2 1 0]\n"
     ]
    }
   ],
   "source": [
    "# 在各種『決策門檻』（decision threshold）下，計算 『真陽率』（True Positive Rate；TPR）與『假陽率』（False Positive Rate；FPR）\n",
    "fpr2, tpr2,threshold2 = roc_curve(df2['Diagnosis'], df2['Output'])\n",
    "print(fpr2, tpr2, threshold2)"
   ]
  },
  {
   "cell_type": "code",
   "execution_count": 11,
   "id": "b8a2237e",
   "metadata": {},
   "outputs": [
    {
     "name": "stdout",
     "output_type": "stream",
     "text": [
      "0.75\n"
     ]
    }
   ],
   "source": [
    "auc2 = auc(fpr2, tpr2)\n",
    "print(auc2)"
   ]
  },
  {
   "cell_type": "code",
   "execution_count": 12,
   "id": "49c1cbe1",
   "metadata": {},
   "outputs": [
    {
     "name": "stdout",
     "output_type": "stream",
     "text": [
      "34 10\n",
      "[0.1 0.1 0.2 0.2 0.2 0.2 0.2 0.2 0.2 0.2 0.2 0.2 0.2 0.2 0.2 0.2 0.2 0.2\n",
      " 0.2 0.2 0.2 0.2 0.2 0.2 0.2 0.3 0.3 0.4 0.4 0.4 0.4 0.5 0.5 0.5 0.5 0.5\n",
      " 0.5 0.5 0.5 0.6 0.7 0.8 0.9 1. ] [0.         0.02941176 0.02941176 0.05882353 0.08823529 0.11764706\n",
      " 0.14705882 0.17647059 0.20588235 0.23529412 0.26470588 0.29411765\n",
      " 0.32352941 0.35294118 0.38235294 0.41176471 0.44117647 0.47058824\n",
      " 0.5        0.52941176 0.55882353 0.58823529 0.61764706 0.64705882\n",
      " 0.67647059 0.67647059 0.70588235 0.70588235 0.73529412 0.76470588\n",
      " 0.79411765 0.79411765 0.82352941 0.85294118 0.88235294 0.91176471\n",
      " 0.94117647 0.97058824 1.         1.         1.         1.\n",
      " 1.         1.        ]\n"
     ]
    }
   ],
   "source": [
    "P2= df2[df2['Diagnosis']==1].shape[0]\n",
    "N2= df2[df2['Diagnosis']==0].shape[0]\n",
    "print(P2,N2)\n",
    "y_unit=1/P2\n",
    "X_unit=1/N2\n",
    "\n",
    "# 以第一欄降冪排序，從大排到小。\n",
    "df2=df2.sort_values(by='Output', ascending=False)\n",
    "\n",
    "# 依序掃描第二欄，計算每一座標點\n",
    "# 若是1，Y加一單位，反之，若是0，X加一單位\n",
    "X2=[]\n",
    "y2=[]\n",
    "current_X2=0\n",
    "current_y2=0\n",
    "for row in df2.itertuples():\n",
    "    # row[0] is index\n",
    "    #print(row[2])\n",
    "    if row[2] == 1:\n",
    "        current_y2+=y_unit\n",
    "    else:\n",
    "        current_X2+=X_unit\n",
    "    X2.append(current_X2)\n",
    "    y2.append(current_y2)\n",
    "\n",
    "X2=np.array(X2)        \n",
    "y2=np.array(y2) \n",
    "print(X2, y2)"
   ]
  },
  {
   "cell_type": "code",
   "execution_count": 11,
   "id": "a4e6567b",
   "metadata": {},
   "outputs": [
    {
     "data": {
      "image/png": "[encoded data removed]",
      "text/plain": [
       "<Figure size 432x288 with 1 Axes>"
      ]
     },
     "metadata": {
      "needs_background": "light"
     },
     "output_type": "display_data"
    }
   ],
   "source": [
    "# 繪圖。   \n",
    "plt.title('Performance of the neural network on the training set')\n",
    "plt.plot(X1, y1, color = 'red', label = 'AUC = %0.2f' % auc1)\n",
    "plt.plot(X2, y2, color = 'blue', label = 'AUC = %0.2f' % auc2)\n",
    "plt.plot([0, 1], [0, 1],'k--')\n",
    "plt.xlim([0, 1])\n",
    "plt.ylim([0, 1])\n",
    "plt.ylabel('Sensitivity')\n",
    "plt.xlabel('1-Specificity')\n",
    "plt.show()   "
   ]
  },
  {
   "cell_type": "code",
   "execution_count": 13,
   "id": "5267ec35",
   "metadata": {},
   "outputs": [
    {
     "data": {
      "image/png": "[encoded data removed]",
      "text/plain": [
       "<Figure size 432x288 with 1 Axes>"
      ]
     },
     "metadata": {
      "needs_background": "light"
     },
     "output_type": "display_data"
    }
   ],
   "source": [
    "# 繪圖。   \n",
    "plt.title('Performance of the neural network on the testing set')\n",
    "plt.plot(X1, y1, color = 'red', label = 'AUC = %0.2f' % auc1)\n",
    "plt.plot(X2, y2, color = 'blue', label = 'AUC = %0.2f' % auc2)\n",
    "plt.plot([0, 1], [0, 1],'k--')\n",
    "plt.xlim([0, 1])\n",
    "plt.ylim([0, 1])\n",
    "plt.ylabel('Sensitivity')\n",
    "plt.xlabel('1-Specificity')\n",
    "plt.show()   "
   ]
  },
  {
   "cell_type": "code",
   "execution_count": 12,
   "id": "2c07498d",
   "metadata": {},
   "outputs": [
    {
     "name": "stdout",
     "output_type": "stream",
     "text": [
      "0.756763170384433 0.5351210251542476\n"
     ]
    }
   ],
   "source": [
    "print(auc1, auc2)"
   ]
  },
  {
   "cell_type": "code",
   "execution_count": null,
   "id": "d9fbcabf",
   "metadata": {},
   "outputs": [],
   "source": []
  }
 ],
 "metadata": {
  "kernelspec": {
   "display_name": "Python 3 (ipykernel)",
   "language": "python",
   "name": "python3"
  },
  "language_info": {
   "codemirror_mode": {
    "name": "ipython",
    "version": 3
   },
   "file_extension": ".py",
   "mimetype": "text/x-python",
   "name": "python",
   "nbconvert_exporter": "python",
   "pygments_lexer": "ipython3",
   "version": "3.9.7"
  }
 },
 "nbformat": 4,
 "nbformat_minor": 5
}
