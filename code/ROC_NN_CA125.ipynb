{
 "cells": [
  {
   "cell_type": "code",
   "execution_count": 1,
   "id": "a76d404a",
   "metadata": {},
   "outputs": [],
   "source": [
    "import numpy as np\n",
    "import matplotlib.pyplot as plt\n",
    "from sklearn.metrics import roc_curve, roc_auc_score, auc\n",
    "import pandas as pd\n",
    "from sklearn import metrics"
   ]
  },
  {
   "cell_type": "code",
   "execution_count": 2,
   "id": "70a4f947",
   "metadata": {},
   "outputs": [],
   "source": [
    "# 讀取資料\n",
    "df=pd.read_csv('./SANN_3.csv')\n",
    "df.drop(df[df['Sample'] == \"Train\"].index, inplace = True)\n",
    "df['Diagnosis'] = df['Diagnosis'].replace(['Controls+Borderline'], 0)\n",
    "df['Diagnosis'] = df['Diagnosis'].replace(['Cancer'], 1)\n",
    "df['Output'] = df['Output'].replace(['Controls+Borderline'], 0)\n",
    "df['Output'] = df['Output'].replace(['Cancer'], 1)"
   ]
  },
  {
   "cell_type": "code",
   "execution_count": 3,
   "id": "41be75bc",
   "metadata": {},
   "outputs": [
    {
     "name": "stdout",
     "output_type": "stream",
     "text": [
      "[0.    0.125 1.   ] [0.         0.96428571 1.        ] [2 1 0]\n"
     ]
    }
   ],
   "source": [
    "# 在各種『決策門檻』（decision threshold）下，計算 『真陽率』（True Positive Rate；TPR）與『假陽率』（False Positive Rate；FPR）\n",
    "fpr, tpr,threshold = roc_curve(df['Diagnosis'], df['Output'])\n",
    "print(fpr, tpr, threshold)"
   ]
  },
  {
   "cell_type": "code",
   "execution_count": 4,
   "id": "9d25a772",
   "metadata": {},
   "outputs": [
    {
     "name": "stdout",
     "output_type": "stream",
     "text": [
      "0.9196428571428571\n"
     ]
    }
   ],
   "source": [
    "auc1 = auc(fpr, tpr)\n",
    "print(auc1)"
   ]
  },
  {
   "cell_type": "code",
   "execution_count": 5,
   "id": "4704d083",
   "metadata": {},
   "outputs": [
    {
     "name": "stdout",
     "output_type": "stream",
     "text": [
      "28 16\n"
     ]
    }
   ],
   "source": [
    "P= df[df['Diagnosis']==1].shape[0]\n",
    "N= df[df['Diagnosis']==0].shape[0]\n",
    "print(P,N)\n",
    "y_unit=1/P\n",
    "X_unit=1/N\n",
    "\n",
    "# 以第一欄降冪排序，從大排到小。\n",
    "df3=df.sort_values(by='Output', ascending=False)\n",
    "\n",
    "# 依序掃描第二欄，計算每一座標點\n",
    "# 若是1，Y加一單位，反之，若是0，X加一單位\n",
    "X=[]\n",
    "y=[]\n",
    "current_X=0\n",
    "current_y=0\n",
    "for row in df3.itertuples():\n",
    "    # row[0] is index\n",
    "    #print(row[2])\n",
    "    if row[2] == 1:\n",
    "        current_y+=y_unit\n",
    "    else:\n",
    "        current_X+=X_unit\n",
    "    X.append(current_X)\n",
    "    y.append(current_y)\n",
    "\n",
    "X1=np.array(X)        \n",
    "y1=np.array(y)    \n",
    "#print(X1, y1)"
   ]
  },
  {
   "cell_type": "code",
   "execution_count": 6,
   "id": "1cec796b",
   "metadata": {},
   "outputs": [
    {
     "data": {
      "image/png": "[encoded data removed]",
      "text/plain": [
       "<Figure size 432x288 with 1 Axes>"
      ]
     },
     "metadata": {
      "needs_background": "light"
     },
     "output_type": "display_data"
    }
   ],
   "source": [
    "# 繪圖。   \n",
    "plt.title('ROC curves of neural network vs CA-125')\n",
    "plt.plot(X1, y1, color = 'red', label = 'AUC = %0.2f' % auc1)\n",
    "plt.plot([0, 1], [0, 1],'k--')\n",
    "plt.xlim([0, 2])\n",
    "plt.ylim([0, 1])\n",
    "plt.ylabel('True Positive Rate')\n",
    "plt.xlabel('False Positive Rate')\n",
    "plt.show()   "
   ]
  },
  {
   "cell_type": "code",
   "execution_count": null,
   "id": "7ad6b680",
   "metadata": {},
   "outputs": [],
   "source": []
  },
  {
   "cell_type": "code",
   "execution_count": 7,
   "id": "40b69502",
   "metadata": {},
   "outputs": [],
   "source": [
    "# 讀取資料\n",
    "df2=pd.read_csv('./CA125.csv')\n",
    "df2['Diagnosis'] = df2['Diagnosis'].replace(['Controls+Borderline'], 0)\n",
    "df2['Diagnosis'] = df2['Diagnosis'].replace(['Cancer'], 1)\n",
    "df2['Output'] = df2['Output'].replace(['Control or Borderline'], 0)\n",
    "df2['Output'] = df2['Output'].replace(['Cancer'], 1)\n"
   ]
  },
  {
   "cell_type": "code",
   "execution_count": 8,
   "id": "59e44186",
   "metadata": {},
   "outputs": [
    {
     "name": "stdout",
     "output_type": "stream",
     "text": [
      "[0.         0.54545455 1.        ] [0.         0.74226804 1.        ] [2 1 0]\n"
     ]
    }
   ],
   "source": [
    "# 在各種『決策門檻』（decision threshold）下，計算 『真陽率』（True Positive Rate；TPR）與『假陽率』（False Positive Rate；FPR）\n",
    "fpr2, tpr2,threshold2 = roc_curve(df2['Diagnosis'], df2['Output'])\n",
    "print(fpr2, tpr2, threshold2)"
   ]
  },
  {
   "cell_type": "code",
   "execution_count": 9,
   "id": "f4fb2332",
   "metadata": {},
   "outputs": [
    {
     "name": "stdout",
     "output_type": "stream",
     "text": [
      "0.598406747891284\n"
     ]
    }
   ],
   "source": [
    "auc2 = auc(fpr2, tpr2)\n",
    "print(auc2)"
   ]
  },
  {
   "cell_type": "code",
   "execution_count": 10,
   "id": "49c1cbe1",
   "metadata": {},
   "outputs": [
    {
     "name": "stdout",
     "output_type": "stream",
     "text": [
      "84 35\n"
     ]
    }
   ],
   "source": [
    "P2= df2[df2['Output']==1].shape[0]\n",
    "N2= df2[df2['Output']==0].shape[0]\n",
    "print(P2,N2)\n",
    "y_unit=1/84\n",
    "X_unit=1/35\n",
    "\n",
    "# 以第一欄降冪排序，從大排到小。\n",
    "df2=df2.sort_values(by='Diagnosis', ascending=False)\n",
    "\n",
    "# 依序掃描第二欄，計算每一座標點\n",
    "# 若是1，Y加一單位，反之，若是0，X加一單位\n",
    "X2=[]\n",
    "y2=[]\n",
    "current_X2=0\n",
    "current_y2=0\n",
    "for row in df2.itertuples():\n",
    "    # row[0] is index\n",
    "    #print(row[2])\n",
    "    if row[2] == 1:\n",
    "        current_y2+=y_unit\n",
    "    else:\n",
    "        current_X2+=X_unit\n",
    "    X2.append(current_X2)\n",
    "    y2.append(current_y2)\n",
    "\n",
    "X2=np.array(X2)        \n",
    "y2=np.array(y2) \n",
    "#print(X2, y2)\n"
   ]
  },
  {
   "cell_type": "code",
   "execution_count": 11,
   "id": "807fd970",
   "metadata": {},
   "outputs": [
    {
     "data": {
      "image/png": "[encoded data removed]",
      "text/plain": [
       "<Figure size 432x288 with 1 Axes>"
      ]
     },
     "metadata": {
      "needs_background": "light"
     },
     "output_type": "display_data"
    }
   ],
   "source": [
    "# 繪圖。   \n",
    "plt.title('ROC curves of neural network vs CA-125')\n",
    "plt.plot(X2, y2, color = 'blue', label = 'AUC = %0.2f' % auc2)\n",
    "plt.plot([0, 1], [0, 1],'k--')\n",
    "plt.xlim([0, 2])\n",
    "plt.ylim([0, 1])\n",
    "plt.ylabel('True Positive Rate')\n",
    "plt.xlabel('False Positive Rate')\n",
    "plt.show()   "
   ]
  },
  {
   "cell_type": "code",
   "execution_count": null,
   "id": "5945c137",
   "metadata": {},
   "outputs": [],
   "source": []
  },
  {
   "cell_type": "code",
   "execution_count": 12,
   "id": "a4e6567b",
   "metadata": {},
   "outputs": [
    {
     "data": {
      "image/png": "[encoded data removed]",
      "text/plain": [
       "<Figure size 432x288 with 1 Axes>"
      ]
     },
     "metadata": {
      "needs_background": "light"
     },
     "output_type": "display_data"
    }
   ],
   "source": [
    "# 繪圖。   \n",
    "plt.title('ROC curves of neural network vs CA-125')\n",
    "plt.plot(X1, y1, color = 'red', label = 'AUC = %0.2f' % auc1)\n",
    "plt.plot(X2, y2, color = 'blue', label = 'AUC = %0.2f' % auc2)\n",
    "plt.plot([0, 1], [0, 1],'k--')\n",
    "plt.xlim([0, 1])\n",
    "plt.ylim([0, 1])\n",
    "plt.ylabel('Sensitivity')\n",
    "plt.xlabel('1-Specificity')\n",
    "plt.show()   "
   ]
  },
  {
   "cell_type": "code",
   "execution_count": 13,
   "id": "2c07498d",
   "metadata": {},
   "outputs": [
    {
     "name": "stdout",
     "output_type": "stream",
     "text": [
      "0.9196428571428571 0.598406747891284\n"
     ]
    }
   ],
   "source": [
    "print(auc1, auc2)"
   ]
  },
  {
   "cell_type": "code",
   "execution_count": null,
   "id": "babddfdb",
   "metadata": {},
   "outputs": [],
   "source": []
  }
 ],
 "metadata": {
  "kernelspec": {
   "display_name": "Python 3 (ipykernel)",
   "language": "python",
   "name": "python3"
  },
  "language_info": {
   "codemirror_mode": {
    "name": "ipython",
    "version": 3
   },
   "file_extension": ".py",
   "mimetype": "text/x-python",
   "name": "python",
   "nbconvert_exporter": "python",
   "pygments_lexer": "ipython3",
   "version": "3.9.7"
  }
 },
 "nbformat": 4,
 "nbformat_minor": 5
}
